{
 "cells": [
  {
   "cell_type": "code",
   "execution_count": 20,
   "metadata": {},
   "outputs": [],
   "source": [
    "def plot_roc(y_true, y_probas, title='ROC Curves',plot_micro=True, plot_macro=True, classes_to_plot=None,\n",
    "                   ax=None, figsize=None, cmap='nipy_spectral',\n",
    "                   title_fontsize=\"large\", text_fontsize=\"medium\"):\n",
    "    \"\"\"Generates the ROC curves from labels and predicted scores/probabilities\n",
    "    Args:\n",
    "        y_true (array-like, shape (n_samples)):\n",
    "            Ground truth (correct) target values.\n",
    "        y_probas (array-like, shape (n_samples, n_classes)):\n",
    "            Prediction probabilities for each class returned by a classifier.\n",
    "        title (string, optional): Title of the generated plot. Defaults to\n",
    "            \"ROC Curves\".\n",
    "        plot_micro (boolean, optional): Plot the micro average ROC curve.\n",
    "            Defaults to ``True``.\n",
    "        plot_macro (boolean, optional): Plot the macro average ROC curve.\n",
    "            Defaults to ``True``.\n",
    "        classes_to_plot (list-like, optional): Classes for which the ROC\n",
    "            curve should be plotted. e.g. [0, 'cold']. If given class does not exist,\n",
    "            it will be ignored. If ``None``, all classes will be plotted. Defaults to\n",
    "            ``None``\n",
    "        ax (:class:`matplotlib.axes.Axes`, optional): The axes upon which to\n",
    "            plot the curve. If None, the plot is drawn on a new set of axes.\n",
    "        figsize (2-tuple, optional): Tuple denoting figure size of the plot\n",
    "            e.g. (6, 6). Defaults to ``None``.\n",
    "        cmap (string or :class:`matplotlib.colors.Colormap` instance, optional):\n",
    "            Colormap used for plotting the projection. View Matplotlib Colormap\n",
    "            documentation for available options.\n",
    "            https://matplotlib.org/users/colormaps.html\n",
    "        title_fontsize (string or int, optional): Matplotlib-style fontsizes.\n",
    "            Use e.g. \"small\", \"medium\", \"large\" or integer-values. Defaults to\n",
    "            \"large\".\n",
    "        text_fontsize (string or int, optional): Matplotlib-style fontsizes.\n",
    "            Use e.g. \"small\", \"medium\", \"large\" or integer-values. Defaults to\n",
    "            \"medium\".\n",
    "    Returns:\n",
    "        ax (:class:`matplotlib.axes.Axes`): The axes on which the plot was\n",
    "            drawn.\n",
    "    Example:\n",
    "        >>> import scikitplot as skplt\n",
    "        >>> nb = GaussianNB()\n",
    "        >>> nb = nb.fit(X_train, y_train)\n",
    "        >>> y_probas = nb.predict_proba(X_test)\n",
    "        >>> skplt.metrics.plot_roc(y_test, y_probas)\n",
    "        <matplotlib.axes._subplots.AxesSubplot object at 0x7fe967d64490>\n",
    "        >>> plt.show()\n",
    "        .. image:: _static/examples/plot_roc_curve.png\n",
    "           :align: center\n",
    "           :alt: ROC Curves\n",
    "    \"\"\"\n",
    "    y_true = np.array(y_true)\n",
    "    y_probas = np.array(y_probas)\n",
    "\n",
    "    classes = np.unique(y_true)\n",
    "    probas = y_probas\n",
    "\n",
    "    if classes_to_plot is None:\n",
    "        classes_to_plot = classes\n",
    "\n",
    "    if ax is None:\n",
    "        fig, ax = plt.subplots(1, 1, figsize=figsize)\n",
    "\n",
    "    ax.set_title(title, fontsize=title_fontsize)\n",
    "\n",
    "    fpr_dict = dict()\n",
    "    tpr_dict = dict()\n",
    "\n",
    "    indices_to_plot = np.in1d(classes, classes_to_plot)\n",
    "    for i, to_plot in enumerate(indices_to_plot):\n",
    "        fpr_dict[i], tpr_dict[i], _ = roc_curve(y_true, probas[:, i],pos_label=classes[i])\n",
    "        if to_plot:\n",
    "            roc_auc = auc(fpr_dict[i], tpr_dict[i])\n",
    "            color = plt.cm.get_cmap(cmap)(float(i) / len(classes))\n",
    "            ax.plot(fpr_dict[i], tpr_dict[i], lw=2, color=color,\n",
    "                    label='ROC curve of class {0} (area = {1:0.2f})'\n",
    "                          ''.format(classes[i], roc_auc))\n",
    "\n",
    "    if plot_micro:\n",
    "        binarized_y_true = label_binarize(y_true, classes=classes)\n",
    "        if len(classes) == 2:\n",
    "            binarized_y_true = np.hstack(\n",
    "                (1 - binarized_y_true, binarized_y_true))\n",
    "        fpr, tpr, _ = roc_curve(binarized_y_true.ravel(), probas.ravel())\n",
    "        roc_auc = auc(fpr, tpr)\n",
    "        ax.plot(fpr, tpr,\n",
    "                label='micro-average ROC curve '\n",
    "                      '(area = {0:0.2f})'.format(roc_auc),\n",
    "                color='deeppink', linestyle=':', linewidth=4)\n",
    "\n",
    "    if plot_macro:\n",
    "        # Compute macro-average ROC curve and ROC area\n",
    "        # First aggregate all false positive rates\n",
    "        all_fpr = np.unique(np.concatenate([fpr_dict[x] for x in range(len(classes))]))\n",
    "\n",
    "        # Then interpolate all ROC curves at this points\n",
    "        mean_tpr = np.zeros_like(all_fpr)\n",
    "        for i in range(len(classes)):\n",
    "            mean_tpr += interp(all_fpr, fpr_dict[i], tpr_dict[i])\n",
    "\n",
    "        # Finally average it and compute AUC\n",
    "        mean_tpr /= len(classes)\n",
    "        roc_auc = auc(all_fpr, mean_tpr)\n",
    "\n",
    "        ax.plot(all_fpr, mean_tpr,\n",
    "                label='macro-average ROC curve '\n",
    "                      '(area = {0:0.2f})'.format(roc_auc),\n",
    "                color='navy', linestyle=':', linewidth=4)\n",
    "\n",
    "    ax.plot([0, 1], [0, 1], 'k--', lw=2)\n",
    "    ax.set_xlim([0.0, 1.0])\n",
    "    ax.set_ylim([0.0, 1.05])\n",
    "    ax.set_xlabel('False Positive Rate', fontsize=text_fontsize)\n",
    "    ax.set_ylabel('True Positive Rate', fontsize=text_fontsize)\n",
    "    ax.tick_params(labelsize=text_fontsize)\n",
    "    ax.legend(loc='lower right', fontsize=text_fontsize)\n",
    "    return ax"
   ]
  },
  {
   "cell_type": "markdown",
   "metadata": {},
   "source": [
    "Example from Scikitlearn"
   ]
  },
  {
   "cell_type": "markdown",
   "metadata": {},
   "source": [
    "https://scikit-learn.org/stable/modules/generated/sklearn.metrics.plot_roc_curve.html#examples-using-sklearn-metrics-plot-roc-curve"
   ]
  },
  {
   "cell_type": "code",
   "execution_count": 56,
   "metadata": {},
   "outputs": [],
   "source": [
    "import numpy as np\n",
    "from sklearn.metrics import roc_curve\n",
    "from sklearn.metrics import auc\n",
    "from sklearn.preprocessing import label_binarize\n",
    "import matplotlib.pyplot as plt  # doctest: +SKIP\n",
    "from sklearn import datasets, model_selection, svm\n",
    "from numpy import interp"
   ]
  },
  {
   "cell_type": "code",
   "execution_count": 50,
   "metadata": {},
   "outputs": [
    {
     "data": {
      "text/plain": [
       "SVC(random_state=0)"
      ]
     },
     "execution_count": 50,
     "metadata": {},
     "output_type": "execute_result"
    }
   ],
   "source": [
    "X, y = datasets.make_classification(random_state=0)\n",
    "X_train, X_test, y_train, y_test = model_selection.train_test_split(            X, y, random_state=0)\n",
    "clf = svm.SVC(random_state=0,probability=True)\n",
    "clf.fit(X_train, y_train)\n",
    "svm.SVC(random_state=0)\n"
   ]
  },
  {
   "cell_type": "code",
   "execution_count": 51,
   "metadata": {},
   "outputs": [
    {
     "name": "stdout",
     "output_type": "stream",
     "text": [
      "0.23.2\n"
     ]
    }
   ],
   "source": [
    "import sklearn\n",
    "print(sklearn.__version__)"
   ]
  },
  {
   "cell_type": "code",
   "execution_count": 57,
   "metadata": {},
   "outputs": [
    {
     "data": {
      "text/plain": [
       "<matplotlib.axes._subplots.AxesSubplot at 0x1252cbb50>"
      ]
     },
     "execution_count": 57,
     "metadata": {},
     "output_type": "execute_result"
    },
    {
     "data": {
      "image/png": "[encoded data removed]",
      "text/plain": [
       "<Figure size 432x288 with 1 Axes>"
      ]
     },
     "metadata": {
      "needs_background": "light"
     },
     "output_type": "display_data"
    }
   ],
   "source": [
    "y_probas = clf.predict_proba(X_test)\n",
    "y_true = y_test\n",
    "\n",
    "plot_roc(y_true, y_probas) "
   ]
  },
  {
   "cell_type": "code",
   "execution_count": null,
   "metadata": {},
   "outputs": [],
   "source": []
  }
 ],
 "metadata": {
  "kernelspec": {
   "display_name": "Python 3",
   "language": "python",
   "name": "python3"
  },
  "language_info": {
   "codemirror_mode": {
    "name": "ipython",
    "version": 3
   },
   "file_extension": ".py",
   "mimetype": "text/x-python",
   "name": "python",
   "nbconvert_exporter": "python",
   "pygments_lexer": "ipython3",
   "version": "3.7.6"
  }
 },
 "nbformat": 4,
 "nbformat_minor": 2
}
